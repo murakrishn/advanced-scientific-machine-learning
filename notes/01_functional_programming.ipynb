{
 "cells": [
  {
   "cell_type": "markdown",
   "metadata": {},
   "source": [
    "<!-- ~ovn! -->\n",
    "# Functional Programming"
   ]
  },
  {
   "cell_type": "code",
   "execution_count": 1,
   "metadata": {},
   "outputs": [
    {
     "data": {
      "text/plain": [
       "55"
      ]
     },
     "execution_count": 1,
     "metadata": {},
     "output_type": "execute_result"
    }
   ],
   "source": [
    "# Pure functions\n",
    "\n",
    "f = lambda x: x**2\n",
    "\n",
    "def fib(n):\n",
    "    if n < 2:\n",
    "        return n\n",
    "    else:\n",
    "        return fib(n-1) + fib(n-2)\n",
    "    \n",
    "fib(10)"
   ]
  },
  {
   "cell_type": "code",
   "execution_count": 2,
   "metadata": {},
   "outputs": [
    {
     "data": {
      "text/plain": [
       "15.0"
      ]
     },
     "execution_count": 2,
     "metadata": {},
     "output_type": "execute_result"
    }
   ],
   "source": [
    "# Functional programming with lists\n",
    "# Functional programming languages like Haskell don't have loops\n",
    "# Instead, they use recursion and higher-order functions\n",
    "def mysum(xs):\n",
    "    if not xs:\n",
    "        return 0.0\n",
    "    else:\n",
    "        return xs[0] + mysum(xs[1:])\n",
    "\n",
    "mysum([1,2,3,4,5])"
   ]
  },
  {
   "cell_type": "markdown",
   "metadata": {},
   "source": [
    "## Functions are first-class objects\n",
    "\n",
    "In functional programming can have pure functions that take other functions as arguments. This is called a higher-order function."
   ]
  },
  {
   "cell_type": "code",
   "execution_count": 3,
   "metadata": {},
   "outputs": [
    {
     "data": {
      "text/plain": [
       "[1, 4, 9, 16, 25]"
      ]
     },
     "execution_count": 3,
     "metadata": {},
     "output_type": "execute_result"
    }
   ],
   "source": [
    "# Map\n",
    "def mymap(x, f):\n",
    "    if not x:\n",
    "        return []\n",
    "    else:\n",
    "        return [f(x[0])] + mymap(x[1:], f)\n",
    "    \n",
    "# Here is how it works:\n",
    "mymap([1,2,3,4,5], lambda x: x**2)"
   ]
  },
  {
   "cell_type": "code",
   "execution_count": 4,
   "metadata": {},
   "outputs": [
    {
     "data": {
      "text/plain": [
       "[1, 8, 27, 64, 125]"
      ]
     },
     "execution_count": 4,
     "metadata": {},
     "output_type": "execute_result"
    }
   ],
   "source": [
    "mymap([1,2,3,4,5], lambda x: x**3)"
   ]
  },
  {
   "cell_type": "markdown",
   "metadata": {},
   "source": [
    "## Vectorization (vmap)\n",
    "With `map` we can make a function that vectorizes another function, say `vmap`:"
   ]
  },
  {
   "cell_type": "code",
   "execution_count": 5,
   "metadata": {},
   "outputs": [],
   "source": [
    "myvmap = lambda f: lambda x: mymap(x, f)\n",
    "\n",
    "vectorized_square = myvmap(lambda x: x**2)"
   ]
  },
  {
   "cell_type": "code",
   "execution_count": 6,
   "metadata": {},
   "outputs": [
    {
     "data": {
      "text/plain": [
       "15"
      ]
     },
     "execution_count": 6,
     "metadata": {},
     "output_type": "execute_result"
    }
   ],
   "source": [
    "# reduce\n",
    "def myreduce(x, f, init):\n",
    "    if not x:\n",
    "        return init\n",
    "    elif len(x) == 1:\n",
    "        return x[0]\n",
    "    else:\n",
    "        return f(x[0], myreduce(x[1:], f, init))\n",
    "    \n",
    "mysum_reduce = lambda x: myreduce(x, lambda x, y: x + y, 0)\n",
    "\n",
    "mysum_reduce([1,2,3,4,5])"
   ]
  },
  {
   "cell_type": "code",
   "execution_count": 7,
   "metadata": {},
   "outputs": [
    {
     "data": {
      "text/plain": [
       "120"
      ]
     },
     "execution_count": 7,
     "metadata": {},
     "output_type": "execute_result"
    }
   ],
   "source": [
    "myprod_reduce = lambda x: myreduce(x, lambda x, y: x * y, 1)\n",
    "\n",
    "myprod_reduce([1,2,3,4,5])"
   ]
  },
  {
   "cell_type": "code",
   "execution_count": 8,
   "metadata": {},
   "outputs": [],
   "source": [
    "# filter \n",
    "# takes a function and a list and returns a list of elements that satisfy the function\n",
    "\n",
    "def myfilter(x, f):\n",
    "    if not x:\n",
    "        return []\n",
    "    elif f(x[0]):\n",
    "        return [x[0]] + myfilter(x[1:], f)\n",
    "    else:\n",
    "        return myfilter(x[1:], f)"
   ]
  },
  {
   "cell_type": "code",
   "execution_count": 9,
   "metadata": {},
   "outputs": [
    {
     "data": {
      "text/plain": [
       "[2, 4, 6, 8, 10]"
      ]
     },
     "execution_count": 9,
     "metadata": {},
     "output_type": "execute_result"
    }
   ],
   "source": [
    "filter_even_numbers = lambda x: myfilter(x, lambda x: x % 2 == 0)\n",
    "\n",
    "filter_even_numbers([1,2,3,4,5,6,7,8,9,10])"
   ]
  },
  {
   "cell_type": "markdown",
   "metadata": {},
   "source": [
    "In functional programming languages, currying is used a lot. Syntax is nicer.\n",
    "For example in Haskell, we can write:\n",
    "\n",
    "```haskell\n",
    "add :: Int -> Int -> Int\n",
    "add x y = x + y\n",
    "\n",
    "add2 :: Int -> Int\n",
    "add2 = add 2\n",
    "-- In GHCi\n",
    "add2 3\n",
    ">>> 5\n",
    "```\n",
    "\n",
    "## Function composition\n",
    "Suppose you have two function `f` and `g`, such that the output of `g` is of the right type to be an input to `f`.\n",
    "This allows you to compose them to make a new function `h`.\n",
    "Mathematically we write, $h = f \\circ g$, for function composition."
   ]
  },
  {
   "cell_type": "code",
   "execution_count": 10,
   "metadata": {},
   "outputs": [
    {
     "name": "stdout",
     "output_type": "stream",
     "text": [
      "h(x)\t= 5\n",
      "f(g(x))\t= 5\n"
     ]
    }
   ],
   "source": [
    "compose = lambda f, g: lambda x: f(g(x))\n",
    "\n",
    "g = lambda x: x**2\n",
    "f = lambda x: x + 1\n",
    "h = compose(f, g)\n",
    "\n",
    "print(f\"h(x)\\t= {h(2)}\")\n",
    "print(f\"f(g(x))\\t= {f(g(2))}\")"
   ]
  },
  {
   "cell_type": "markdown",
   "metadata": {},
   "source": [
    "Composition is nicer in Haskell\n",
    "\n",
    "```haskell\n",
    "f :: Int -> Int\n",
    "f x = x + 1\n",
    "\n",
    "g :: Int -> Int\n",
    "g x = x ^ 2\n",
    "\n",
    "h :: Int -> Int\n",
    "h = f . g\n",
    "\n",
    "h 3 -- 7\n",
    "```"
   ]
  },
  {
   "cell_type": "code",
   "execution_count": 11,
   "metadata": {},
   "outputs": [
    {
     "data": {
      "text/plain": [
       "[1, 8, 27, 64, 125]"
      ]
     },
     "execution_count": 11,
     "metadata": {},
     "output_type": "execute_result"
    }
   ],
   "source": [
    "import dis\n",
    "\n",
    "@myvmap\n",
    "def g(x):\n",
    "    return x**3\n",
    "g([1,2,3,4,5])\n"
   ]
  },
  {
   "cell_type": "code",
   "execution_count": 12,
   "metadata": {},
   "outputs": [
    {
     "name": "stdout",
     "output_type": "stream",
     "text": [
      "  1           0 LOAD_GLOBAL              0 (mymap)\n",
      "              2 LOAD_FAST                0 (x)\n",
      "              4 LOAD_DEREF               0 (f)\n",
      "              6 CALL_FUNCTION            2\n",
      "              8 RETURN_VALUE\n"
     ]
    }
   ],
   "source": [
    "dis.dis(g) # What does Cpython disassemble a decorator to be?"
   ]
  },
  {
   "cell_type": "markdown",
   "metadata": {},
   "source": [
    "# Just in Time Compilation\n",
    "\n",
    "Python is an interpreted language and hence it is quite slow.\n",
    "\n",
    "Previous methods attempt to provide `ffi` to C so that you can call C-functions from your Python code.\n",
    "But this is cumbersome and error-prone.\n",
    "\n",
    "**An** alternate solution is just-in-time (JIT) compilers, which is done by `jax`, which we care deeply about in machine learning.\n",
    "\n",
    "It is built on top of XLA, which is a compiler for linear algebra operations developed at Google.\n",
    "\n",
    "Lets do some `jax`!"
   ]
  },
  {
   "cell_type": "code",
   "execution_count": 13,
   "metadata": {},
   "outputs": [],
   "source": [
    "import jax\n",
    "import jax.numpy as jnp"
   ]
  },
  {
   "cell_type": "code",
   "execution_count": 14,
   "metadata": {},
   "outputs": [
    {
     "data": {
      "text/plain": [
       "Array(0.49315056, dtype=float32, weak_type=True)"
      ]
     },
     "execution_count": 14,
     "metadata": {},
     "output_type": "execute_result"
    }
   ],
   "source": [
    "# a simple math function\n",
    "f = lambda x: jnp.sin(x) + jnp.cos(x)\n",
    "\n",
    "# A jit-compiled version of the function\n",
    "f_jit = jax.jit(f)\n",
    "\n",
    "# It can be used as a decorator as well\n",
    "@jax.jit\n",
    "def f_jit2(x):\n",
    "    return jnp.sin(x) + jnp.cos(x)\n",
    "\n",
    "f(2)"
   ]
  },
  {
   "cell_type": "code",
   "execution_count": 15,
   "metadata": {},
   "outputs": [
    {
     "data": {
      "text/plain": [
       "Array(0.49315056, dtype=float32, weak_type=True)"
      ]
     },
     "execution_count": 15,
     "metadata": {},
     "output_type": "execute_result"
    }
   ],
   "source": [
    "f_jit2(2)"
   ]
  },
  {
   "cell_type": "markdown",
   "metadata": {},
   "source": [
    "There is no real benefit in this case, because the function is simple.\n",
    "However, when we `jit` bigger chunks of code, e.g., the update step in the training loop of a NN, there is significant speedup.\n",
    "\n",
    "**However you can only jit _pure_ functions**. _Pure functions_ are functions with no side-effects.\n",
    "\n",
    "## Be careful with loops in `jax`\n",
    "\n",
    "`jit` works with loops, only if we have a fixed number of iterations that is known at compile time. \n",
    "This is to know how many times to unroll the loop."
   ]
  },
  {
   "cell_type": "code",
   "execution_count": 16,
   "metadata": {},
   "outputs": [
    {
     "data": {
      "text/plain": [
       "Array(20., dtype=float32, weak_type=True)"
      ]
     },
     "execution_count": 16,
     "metadata": {},
     "output_type": "execute_result"
    }
   ],
   "source": [
    "@jax.jit\n",
    "def f_loop(x):\n",
    "    y = 0.\n",
    "    for i in range(10):\n",
    "        y = y + x\n",
    "    return y\n",
    "\n",
    "f_loop(2)"
   ]
  },
  {
   "cell_type": "code",
   "execution_count": 17,
   "metadata": {},
   "outputs": [
    {
     "ename": "TracerIntegerConversionError",
     "evalue": "The __index__() method was called on traced array with shape int32[].\nThe error occurred while tracing the function f_loop at /var/folders/p9/0clmpgx106ngs3bfxpjdlkjh0000gn/T/ipykernel_53111/3378156147.py:1 for jit. This concrete value was not available in Python because it depends on the value of the argument n.\nSee https://jax.readthedocs.io/en/latest/errors.html#jax.errors.TracerIntegerConversionError",
     "output_type": "error",
     "traceback": [
      "\u001b[0;31m---------------------------------------------------------------------------\u001b[0m",
      "\u001b[0;31mTracerIntegerConversionError\u001b[0m              Traceback (most recent call last)",
      "Cell \u001b[0;32mIn[17], line 7\u001b[0m\n\u001b[1;32m      5\u001b[0m         y \u001b[38;5;241m=\u001b[39m y \u001b[38;5;241m+\u001b[39m x\n\u001b[1;32m      6\u001b[0m     \u001b[38;5;28;01mreturn\u001b[39;00m y\n\u001b[0;32m----> 7\u001b[0m \u001b[43mf_loop\u001b[49m\u001b[43m(\u001b[49m\u001b[38;5;241;43m2\u001b[39;49m\u001b[43m,\u001b[49m\u001b[43m \u001b[49m\u001b[38;5;241;43m10\u001b[39;49m\u001b[43m)\u001b[49m\n",
      "    \u001b[0;31m[... skipping hidden 12 frame]\u001b[0m\n",
      "Cell \u001b[0;32mIn[17], line 4\u001b[0m, in \u001b[0;36mf_loop\u001b[0;34m(x, n)\u001b[0m\n\u001b[1;32m      1\u001b[0m \u001b[38;5;129m@jax\u001b[39m\u001b[38;5;241m.\u001b[39mjit\n\u001b[1;32m      2\u001b[0m \u001b[38;5;28;01mdef\u001b[39;00m \u001b[38;5;21mf_loop\u001b[39m(x, n):\n\u001b[1;32m      3\u001b[0m     y \u001b[38;5;241m=\u001b[39m \u001b[38;5;241m0.\u001b[39m\n\u001b[0;32m----> 4\u001b[0m     \u001b[38;5;28;01mfor\u001b[39;00m i \u001b[38;5;129;01min\u001b[39;00m \u001b[38;5;28;43mrange\u001b[39;49m\u001b[43m(\u001b[49m\u001b[43mn\u001b[49m\u001b[43m)\u001b[49m:\n\u001b[1;32m      5\u001b[0m         y \u001b[38;5;241m=\u001b[39m y \u001b[38;5;241m+\u001b[39m x\n\u001b[1;32m      6\u001b[0m     \u001b[38;5;28;01mreturn\u001b[39;00m y\n",
      "    \u001b[0;31m[... skipping hidden 1 frame]\u001b[0m\n",
      "File \u001b[0;32m~/.venv/me697/lib/python3.10/site-packages/jax/_src/core.py:1513\u001b[0m, in \u001b[0;36mconcretization_function_error.<locals>.error\u001b[0;34m(self, arg)\u001b[0m\n\u001b[1;32m   1512\u001b[0m \u001b[38;5;28;01mdef\u001b[39;00m \u001b[38;5;21merror\u001b[39m(\u001b[38;5;28mself\u001b[39m, arg):\n\u001b[0;32m-> 1513\u001b[0m   \u001b[38;5;28;01mraise\u001b[39;00m TracerIntegerConversionError(arg)\n",
      "\u001b[0;31mTracerIntegerConversionError\u001b[0m: The __index__() method was called on traced array with shape int32[].\nThe error occurred while tracing the function f_loop at /var/folders/p9/0clmpgx106ngs3bfxpjdlkjh0000gn/T/ipykernel_53111/3378156147.py:1 for jit. This concrete value was not available in Python because it depends on the value of the argument n.\nSee https://jax.readthedocs.io/en/latest/errors.html#jax.errors.TracerIntegerConversionError"
     ]
    }
   ],
   "source": [
    "@jax.jit\n",
    "def f_loop(x, n):\n",
    "    y = 0.\n",
    "    for i in range(n):\n",
    "        y = y + x\n",
    "    return y\n",
    "f_loop(2, 10)"
   ]
  },
  {
   "cell_type": "markdown",
   "metadata": {},
   "source": [
    "To make this work in `jax`, we must tell `jax` that the second argument is a constant and it must not trace it.\n",
    "We can make it work using `functools.partial` "
   ]
  },
  {
   "cell_type": "code",
   "execution_count": 18,
   "metadata": {},
   "outputs": [
    {
     "data": {
      "text/plain": [
       "Array(20., dtype=float32, weak_type=True)"
      ]
     },
     "execution_count": 18,
     "metadata": {},
     "output_type": "execute_result"
    }
   ],
   "source": [
    "import functools as ft\n",
    "\n",
    "@ft.partial(jax.jit, static_argnums=(1,))\n",
    "def f_loop(x, n):\n",
    "    y = 0.\n",
    "    for i in range(n):\n",
    "        y = y + x\n",
    "    return y\n",
    "\n",
    "f_loop(2, 10) # magic!"
   ]
  },
  {
   "cell_type": "markdown",
   "metadata": {},
   "source": [
    "This is alright if we are going to call `f_loop` with only a few few different values of `n`.\n",
    "This is not okay, if we are calling `f_loop` with many different `n`'s, because the re-compilation will cause unnecessary delays.\n",
    "\n",
    "If we want to avoid the recompilation, we need to use a Lax control primitive. \n",
    "Lax is a low-level API for Jax."
   ]
  },
  {
   "cell_type": "code",
   "execution_count": 19,
   "metadata": {},
   "outputs": [
    {
     "data": {
      "text/plain": [
       "Array(20., dtype=float32, weak_type=True)"
      ]
     },
     "execution_count": 19,
     "metadata": {},
     "output_type": "execute_result"
    }
   ],
   "source": [
    "from jax import lax\n",
    "\n",
    "@jax.jit\n",
    "def f_loop(x, n):\n",
    "    return lax.fori_loop(0, n, lambda i, y: y + x, 0.)\n",
    "\n",
    "f_loop(2, 10)"
   ]
  },
  {
   "cell_type": "code",
   "execution_count": 20,
   "metadata": {},
   "outputs": [
    {
     "ename": "TracerBoolConversionError",
     "evalue": "Attempted boolean conversion of traced array with shape bool[]..\nThe error occurred while tracing the function sum_up_to at /var/folders/p9/0clmpgx106ngs3bfxpjdlkjh0000gn/T/ipykernel_53111/2766001324.py:2 for jit. This concrete value was not available in Python because it depends on the value of the argument x.\nSee https://jax.readthedocs.io/en/latest/errors.html#jax.errors.TracerBoolConversionError",
     "output_type": "error",
     "traceback": [
      "\u001b[0;31m---------------------------------------------------------------------------\u001b[0m",
      "\u001b[0;31mTracerBoolConversionError\u001b[0m                 Traceback (most recent call last)",
      "Cell \u001b[0;32mIn[20], line 10\u001b[0m\n\u001b[1;32m      8\u001b[0m         n \u001b[38;5;241m=\u001b[39m n \u001b[38;5;241m+\u001b[39m \u001b[38;5;241m1\u001b[39m\n\u001b[1;32m      9\u001b[0m     \u001b[38;5;28;01mreturn\u001b[39;00m s\n\u001b[0;32m---> 10\u001b[0m \u001b[43msum_up_to\u001b[49m\u001b[43m(\u001b[49m\u001b[38;5;241;43m10\u001b[39;49m\u001b[43m)\u001b[49m\n",
      "    \u001b[0;31m[... skipping hidden 12 frame]\u001b[0m\n",
      "Cell \u001b[0;32mIn[20], line 6\u001b[0m, in \u001b[0;36msum_up_to\u001b[0;34m(x)\u001b[0m\n\u001b[1;32m      4\u001b[0m s \u001b[38;5;241m=\u001b[39m \u001b[38;5;241m0.0\u001b[39m\n\u001b[1;32m      5\u001b[0m n \u001b[38;5;241m=\u001b[39m \u001b[38;5;241m1\u001b[39m\n\u001b[0;32m----> 6\u001b[0m \u001b[38;5;28;01mwhile\u001b[39;00m n \u001b[38;5;241m<\u001b[39m x:\n\u001b[1;32m      7\u001b[0m     s \u001b[38;5;241m=\u001b[39m s \u001b[38;5;241m+\u001b[39m n\n\u001b[1;32m      8\u001b[0m     n \u001b[38;5;241m=\u001b[39m n \u001b[38;5;241m+\u001b[39m \u001b[38;5;241m1\u001b[39m\n",
      "    \u001b[0;31m[... skipping hidden 1 frame]\u001b[0m\n",
      "File \u001b[0;32m~/.venv/me697/lib/python3.10/site-packages/jax/_src/core.py:1510\u001b[0m, in \u001b[0;36mconcretization_function_error.<locals>.error\u001b[0;34m(self, arg)\u001b[0m\n\u001b[1;32m   1509\u001b[0m \u001b[38;5;28;01mdef\u001b[39;00m \u001b[38;5;21merror\u001b[39m(\u001b[38;5;28mself\u001b[39m, arg):\n\u001b[0;32m-> 1510\u001b[0m   \u001b[38;5;28;01mraise\u001b[39;00m TracerBoolConversionError(arg)\n",
      "\u001b[0;31mTracerBoolConversionError\u001b[0m: Attempted boolean conversion of traced array with shape bool[]..\nThe error occurred while tracing the function sum_up_to at /var/folders/p9/0clmpgx106ngs3bfxpjdlkjh0000gn/T/ipykernel_53111/2766001324.py:2 for jit. This concrete value was not available in Python because it depends on the value of the argument x.\nSee https://jax.readthedocs.io/en/latest/errors.html#jax.errors.TracerBoolConversionError"
     ]
    }
   ],
   "source": [
    "# Other useful functions are lax.while_loop, which implements a while loop\n",
    "@jax.jit\n",
    "def sum_up_to(x):\n",
    "    s = 0.0\n",
    "    n = 1\n",
    "    while n < x:\n",
    "        s = s + n\n",
    "        n = n + 1\n",
    "    return s\n",
    "sum_up_to(10)"
   ]
  },
  {
   "cell_type": "code",
   "execution_count": 21,
   "metadata": {},
   "outputs": [
    {
     "data": {
      "text/plain": [
       "Array(55, dtype=int32, weak_type=True)"
      ]
     },
     "execution_count": 21,
     "metadata": {},
     "output_type": "execute_result"
    }
   ],
   "source": [
    "@jax.jit\n",
    "def sum_up_to(x):\n",
    "    return lax.while_loop(\n",
    "        lambda c: c[1] <= x,\n",
    "        lambda c: (c[0] + c[1], c[1] + 1),\n",
    "        (0, 1)      # initial values, c0 = 0, c1 = 1\n",
    "    )[0]\n",
    "sum_up_to(10)"
   ]
  },
  {
   "cell_type": "code",
   "execution_count": 22,
   "metadata": {},
   "outputs": [
    {
     "ename": "TracerBoolConversionError",
     "evalue": "Attempted boolean conversion of traced array with shape bool[]..\nThe error occurred while tracing the function myabs at /var/folders/p9/0clmpgx106ngs3bfxpjdlkjh0000gn/T/ipykernel_53111/3500392006.py:2 for jit. This concrete value was not available in Python because it depends on the value of the argument x.\nSee https://jax.readthedocs.io/en/latest/errors.html#jax.errors.TracerBoolConversionError",
     "output_type": "error",
     "traceback": [
      "\u001b[0;31m---------------------------------------------------------------------------\u001b[0m",
      "\u001b[0;31mTracerBoolConversionError\u001b[0m                 Traceback (most recent call last)",
      "Cell \u001b[0;32mIn[22], line 8\u001b[0m\n\u001b[1;32m      6\u001b[0m     \u001b[38;5;28;01melse\u001b[39;00m:\n\u001b[1;32m      7\u001b[0m         \u001b[38;5;28;01mreturn\u001b[39;00m x\n\u001b[0;32m----> 8\u001b[0m \u001b[43mmyabs\u001b[49m\u001b[43m(\u001b[49m\u001b[38;5;241;43m-\u001b[39;49m\u001b[38;5;241;43m1\u001b[39;49m\u001b[43m)\u001b[49m\n",
      "    \u001b[0;31m[... skipping hidden 12 frame]\u001b[0m\n",
      "Cell \u001b[0;32mIn[22], line 4\u001b[0m, in \u001b[0;36mmyabs\u001b[0;34m(x)\u001b[0m\n\u001b[1;32m      2\u001b[0m \u001b[38;5;129m@jax\u001b[39m\u001b[38;5;241m.\u001b[39mjit\n\u001b[1;32m      3\u001b[0m \u001b[38;5;28;01mdef\u001b[39;00m \u001b[38;5;21mmyabs\u001b[39m(x):\n\u001b[0;32m----> 4\u001b[0m     \u001b[38;5;28;01mif\u001b[39;00m x \u001b[38;5;241m<\u001b[39m \u001b[38;5;241m0\u001b[39m:\n\u001b[1;32m      5\u001b[0m         \u001b[38;5;28;01mreturn\u001b[39;00m \u001b[38;5;241m-\u001b[39mx\n\u001b[1;32m      6\u001b[0m     \u001b[38;5;28;01melse\u001b[39;00m:\n",
      "    \u001b[0;31m[... skipping hidden 1 frame]\u001b[0m\n",
      "File \u001b[0;32m~/.venv/me697/lib/python3.10/site-packages/jax/_src/core.py:1510\u001b[0m, in \u001b[0;36mconcretization_function_error.<locals>.error\u001b[0;34m(self, arg)\u001b[0m\n\u001b[1;32m   1509\u001b[0m \u001b[38;5;28;01mdef\u001b[39;00m \u001b[38;5;21merror\u001b[39m(\u001b[38;5;28mself\u001b[39m, arg):\n\u001b[0;32m-> 1510\u001b[0m   \u001b[38;5;28;01mraise\u001b[39;00m TracerBoolConversionError(arg)\n",
      "\u001b[0;31mTracerBoolConversionError\u001b[0m: Attempted boolean conversion of traced array with shape bool[]..\nThe error occurred while tracing the function myabs at /var/folders/p9/0clmpgx106ngs3bfxpjdlkjh0000gn/T/ipykernel_53111/3500392006.py:2 for jit. This concrete value was not available in Python because it depends on the value of the argument x.\nSee https://jax.readthedocs.io/en/latest/errors.html#jax.errors.TracerBoolConversionError"
     ]
    }
   ],
   "source": [
    "# One has to be careful with conditionals as well\n",
    "@jax.jit\n",
    "def myabs(x):\n",
    "    if x < 0:\n",
    "        return -x\n",
    "    else:\n",
    "        return x\n",
    "myabs(-1)"
   ]
  },
  {
   "cell_type": "code",
   "execution_count": 23,
   "metadata": {},
   "outputs": [
    {
     "data": {
      "text/plain": [
       "Array(1, dtype=int32, weak_type=True)"
      ]
     },
     "execution_count": 23,
     "metadata": {},
     "output_type": "execute_result"
    }
   ],
   "source": [
    "# Need to use `lax.cond` instead\n",
    "@jax.jit\n",
    "def myabs(x):\n",
    "    return lax.cond(x < 0,          # condition\n",
    "                    lambda _: -x,   # if true\n",
    "                    lambda _: x,    # if false\n",
    "                    None            # operands to pass to the lambda functions\n",
    "                )\n",
    "myabs(-1)"
   ]
  },
  {
   "cell_type": "code",
   "execution_count": 24,
   "metadata": {},
   "outputs": [
    {
     "name": "stdout",
     "output_type": "stream",
     "text": [
      "a\n"
     ]
    }
   ],
   "source": [
    "# another lax primitive suggested is `lax.switch`\n",
    "def fa():\n",
    "    return jax.debug.print(\"a\")\n",
    "\n",
    "def fb():\n",
    "    return jax.debug.print(\"b\")\n",
    "\n",
    "def fc():\n",
    "    return jax.debug.print(\"c\")\n",
    "\n",
    "list_of_functions = [fa, fb, fc]\n",
    "lax.switch(0, list_of_functions)"
   ]
  },
  {
   "cell_type": "markdown",
   "metadata": {},
   "source": [
    "## Vectorization\n",
    "`jax` replaces Numpy arrays and functions with `jax` arrays and functions.\n",
    "This allows `jax` to automatically calculate gradients and other derivative and to compule functions for faster execution.\n",
    "`jax` arrays are immutable, unlike `numpy` arrays.\n",
    "For example, `+=` operatiion is not supported for `jax` arrays.\n",
    "\n",
    "Vectorization takes a function that works on single values and turns it into a function that works on arrays.\n",
    "This is useful because it allows us to write code that is more concise and often faster.\n",
    "\n",
    "Lets understand with radial basis functions\n",
    "\n",
    "$$\n",
    "f(x) = \\sum_{i=1}^n w_i \\phi_i(x)\n",
    "$$\n",
    "where $\\phi_i(x) = \\exp(-\\frac{1}{2\\sigma^2}||x - c_i||^2)$ is a radial basis function with center $c_i$ and $\\sigma$ is the bandwidth parameter."
   ]
  },
  {
   "cell_type": "code",
   "execution_count": 25,
   "metadata": {},
   "outputs": [],
   "source": [
    "rbf = lambda x, c, sigma2: jnp.exp(-jnp.sum((x - c)** 2, axis=-1) / sigma2)"
   ]
  },
  {
   "cell_type": "code",
   "execution_count": 26,
   "metadata": {},
   "outputs": [
    {
     "data": {
      "text/plain": [
       "Array(0.082085, dtype=float32)"
      ]
     },
     "execution_count": 26,
     "metadata": {},
     "output_type": "execute_result"
    }
   ],
   "source": [
    "x = jnp.array([0.5])\n",
    "c = jnp.array([0.0])\n",
    "sigma2 = 0.1\n",
    "\n",
    "rbf(x, c, sigma2)"
   ]
  },
  {
   "cell_type": "markdown",
   "metadata": {},
   "source": [
    "Now we want to vectorize it wrt the input $c_i$, so that we can pass all the centers at once. We can do this by using the `vmap` function:"
   ]
  },
  {
   "cell_type": "code",
   "execution_count": 27,
   "metadata": {},
   "outputs": [],
   "source": [
    "from jax import vmap\n",
    "\n",
    "phi = vmap(rbf, in_axes=(None, 0, None), out_axes=0)\n",
    "# Arguments of `vmap` are:\n",
    "# 1- the function to be vectorized\n",
    "# 2- the axes of the input that should be mapped over. \n",
    "#    `0` means that we want to vectorize wrt to the first dimension of `c`\n",
    "# 3- the `out_axes` describes how we want to vectorize the output.\n",
    "#    `0` means that we want to vectorize wrt to the first dimension of the output, as output is a scalar"
   ]
  },
  {
   "cell_type": "code",
   "execution_count": 28,
   "metadata": {},
   "outputs": [
    {
     "data": {
      "text/plain": [
       "Array([1.6918980e-10, 8.1134310e-08, 1.4491094e-05, 9.6397504e-04,\n",
       "       2.3883473e-02, 2.2039244e-01, 7.5746524e-01, 9.6960723e-01,\n",
       "       4.6227053e-01, 8.2084998e-02], dtype=float32)"
      ]
     },
     "execution_count": 28,
     "metadata": {},
     "output_type": "execute_result"
    }
   ],
   "source": [
    "centers = jnp.linspace(-1, 1, 10)\n",
    "phi(x, centers, sigma2)"
   ]
  },
  {
   "cell_type": "code",
   "execution_count": 29,
   "metadata": {},
   "outputs": [
    {
     "name": "stdout",
     "output_type": "stream",
     "text": [
      "(10, 10)\n",
      "(10, 10, 2)\n",
      "(100, 2)\n"
     ]
    }
   ],
   "source": [
    "# trying it for 2d arrays\n",
    "x_2d = jnp.array([0.5, 0.7])\n",
    "\n",
    "# Here are the 2D centers\n",
    "c1 = jnp.linspace(-1, 1, 10)\n",
    "c2 = jnp.linspace(-1, 1, 10)\n",
    "C = jnp.meshgrid(c1, c2)\n",
    "print(C[0].shape)\n",
    "centers = jnp.stack(C, axis=-1).reshape(-1, 2)\n",
    "print(jnp.stack(C, axis=-1).shape)\n",
    "print(centers.shape)"
   ]
  },
  {
   "cell_type": "code",
   "execution_count": 30,
   "metadata": {},
   "outputs": [
    {
     "data": {
      "text/plain": [
       "Array([4.7562314e-23, 2.2808324e-20, 4.0737123e-18, 2.7099149e-16,\n",
       "       6.7140702e-15, 6.1956259e-14, 2.1293739e-13, 2.7257452e-13,\n",
       "       1.2995268e-13, 2.3075580e-14, 5.5479779e-20, 2.6605014e-17,\n",
       "       4.7518256e-15, 3.1610093e-13, 7.8317292e-12, 7.2269815e-11,\n",
       "       2.4838404e-10, 3.1794808e-10, 1.5158498e-10, 2.6916859e-11,\n",
       "       2.4102930e-17, 1.1558467e-14, 2.0644120e-12, 1.3732855e-10,\n",
       "       3.4024576e-09, 3.1397281e-08, 1.0790907e-07, 1.3813091e-07,\n",
       "       6.5855374e-08, 1.1693903e-08, 3.9000916e-15, 1.8702704e-12,\n",
       "       3.3404224e-10, 2.2221114e-08, 5.5055119e-07, 5.0803897e-06,\n",
       "       1.7460752e-05, 2.2350945e-05, 1.0656060e-05, 1.8921869e-06,\n",
       "       2.3504205e-13, 1.1271351e-10, 2.0131354e-08, 1.3391754e-06,\n",
       "       3.3179396e-05, 3.0617364e-04, 1.0522862e-03, 1.3469983e-03,\n",
       "       6.4219604e-04, 1.1403423e-04, 5.2757451e-12, 2.5299631e-09,\n",
       "       4.5186761e-07, 3.0059076e-05, 7.4474415e-04, 6.8723680e-03,\n",
       "       2.3619594e-02, 3.0234693e-02, 1.4414707e-02, 2.5596090e-03,\n",
       "       4.4105164e-11, 2.1150459e-08, 3.7776076e-06, 2.5129350e-04,\n",
       "       6.2260549e-03, 5.7452913e-02, 1.9745953e-01, 2.5276169e-01,\n",
       "       1.2050683e-01, 2.1398295e-02, 1.3732881e-10, 6.5855630e-08,\n",
       "       1.1762226e-05, 7.8244484e-04, 1.9385874e-02, 1.7888942e-01,\n",
       "       6.1482382e-01, 7.8701651e-01, 3.7521845e-01, 6.6627242e-02,\n",
       "       1.5925833e-10, 7.6371720e-08, 1.3640465e-05, 9.0738921e-04,\n",
       "       2.2481501e-02, 2.0745532e-01, 7.1300167e-01, 9.1269082e-01,\n",
       "       4.3513507e-01, 7.7266566e-02, 6.8787462e-11, 3.2986698e-08,\n",
       "       5.8916412e-06, 3.9192277e-04, 9.7102942e-03, 8.9604884e-02,\n",
       "       3.0796239e-01, 3.9421284e-01, 1.8794516e-01, 3.3373266e-02],      dtype=float32)"
      ]
     },
     "execution_count": 30,
     "metadata": {},
     "output_type": "execute_result"
    }
   ],
   "source": [
    "phi(x_2d, centers, sigma2)"
   ]
  },
  {
   "cell_type": "code",
   "execution_count": 31,
   "metadata": {},
   "outputs": [],
   "source": [
    "# Now vectorizing wrt the first input, `x`\n",
    "vphi = vmap(phi, in_axes=(0, None, None), out_axes=0)"
   ]
  },
  {
   "cell_type": "code",
   "execution_count": 32,
   "metadata": {},
   "outputs": [
    {
     "name": "stdout",
     "output_type": "stream",
     "text": [
      "(100, 10)\n"
     ]
    }
   ],
   "source": [
    "xs = jnp.linspace(-1, 1, 100).reshape(-1, 1)\n",
    "cs = jnp.linspace(-1, 1, 10).reshape(-1, 1)\n",
    "phis = vphi(xs, cs, sigma2)\n",
    "print(phis.shape)"
   ]
  },
  {
   "cell_type": "code",
   "execution_count": 33,
   "metadata": {},
   "outputs": [
    {
     "data": {
      "image/png": "[encoded data removed]",
      "text/plain": [
       "<Figure size 640x480 with 1 Axes>"
      ]
     },
     "metadata": {},
     "output_type": "display_data"
    }
   ],
   "source": [
    "import matplotlib.pyplot as plt\n",
    "import seaborn as sns\n",
    "\n",
    "fig, ax = plt.subplots()\n",
    "ax.plot(xs, phis)\n",
    "ax.set(xlabel=\"x\", ylabel=\"phi(x, c)\", title=\"RBF features\")\n",
    "sns.despine(trim=True)"
   ]
  },
  {
   "cell_type": "code",
   "execution_count": 34,
   "metadata": {},
   "outputs": [
    {
     "name": "stdout",
     "output_type": "stream",
     "text": [
      "(2500, 2)\n",
      "(100, 2)\n"
     ]
    }
   ],
   "source": [
    "# same code works for 2D\n",
    "\n",
    "x1 = jnp.linspace(-1, 1, 50)\n",
    "x2 = jnp.linspace(-1, 1, 50)\n",
    "X1, X2 = jnp.meshgrid(x1, x2)\n",
    "X = jnp.stack((X1, X2), axis=-1).reshape(-1, 2)\n",
    "print(X.shape)\n",
    "\n",
    "print(centers.shape)"
   ]
  },
  {
   "cell_type": "code",
   "execution_count": 35,
   "metadata": {},
   "outputs": [
    {
     "data": {
      "text/plain": [
       "(2500, 100)"
      ]
     },
     "execution_count": 35,
     "metadata": {},
     "output_type": "execute_result"
    }
   ],
   "source": [
    "phis = vphi(X, centers, sigma2)\n",
    "phis.shape"
   ]
  },
  {
   "cell_type": "code",
   "execution_count": 36,
   "metadata": {},
   "outputs": [
    {
     "data": {
      "image/png": "[encoded data removed]",
      "text/plain": [
       "<Figure size 640x480 with 2 Axes>"
      ]
     },
     "metadata": {},
     "output_type": "display_data"
    }
   ],
   "source": [
    "# contour plot of one of them\n",
    "i = 25\n",
    "fig, ax = plt.subplots()\n",
    "ax.set_aspect(\"equal\")\n",
    "x = ax.contourf(X1, X2, phis[:, i].reshape(50, 50))\n",
    "ax.plot(centers[i, 0], centers[i, 1], \"rx\")\n",
    "plt.colorbar(x)\n",
    "sns.despine(trim=True)"
   ]
  },
  {
   "cell_type": "code",
   "execution_count": 37,
   "metadata": {},
   "outputs": [
    {
     "data": {
      "text/plain": [
       "(2500, 100)"
      ]
     },
     "execution_count": 37,
     "metadata": {},
     "output_type": "execute_result"
    }
   ],
   "source": [
    "# Lets do the vectorization process described above in a single function\n",
    "\n",
    "@jax.jit\n",
    "@ft.partial(vmap, in_axes=(0, None, None), out_axes=0) # vectorize wrt to input `x`\n",
    "@ft.partial(vmap, in_axes=(None, 0, None), out_axes=0) # vectorize wrt to input `c`\n",
    "def rbf_basis(x, c, sigma2):\n",
    "    return jnp.exp(-jnp.sum((x -c)**2) / sigma2)\n",
    "\n",
    "# Now we can use it as a function\n",
    "rbf_basis(X, centers, sigma2).shape"
   ]
  },
  {
   "cell_type": "code",
   "execution_count": 38,
   "metadata": {},
   "outputs": [
    {
     "name": "stdout",
     "output_type": "stream",
     "text": [
      "5.95 ms ± 81.1 µs per loop (mean ± std. dev. of 7 runs, 100 loops each)\n"
     ]
    }
   ],
   "source": [
    "%timeit vphi(X, centers, sigma2).block_until_ready()"
   ]
  },
  {
   "cell_type": "code",
   "execution_count": 39,
   "metadata": {},
   "outputs": [
    {
     "name": "stdout",
     "output_type": "stream",
     "text": [
      "811 µs ± 117 µs per loop (mean ± std. dev. of 7 runs, 1,000 loops each)\n"
     ]
    }
   ],
   "source": [
    "%timeit rbf_basis(X, centers, sigma2).block_until_ready()\n",
    "# @jax.jit is not giving me the same speed-up as it did in the tutorial\n",
    "# Vector sizes seem to affect the compilation time, which is interesting. (maybe the dependence is on RAM?/Processor?)"
   ]
  },
  {
   "cell_type": "markdown",
   "metadata": {},
   "source": [
    "## Pseudo Random Numbers without Side Effects\n",
    "\n",
    "`jax` uses pure functions. PRNGs are typically implemented as stateful objects.\n",
    "- You initialize the generator with a seed\n",
    "- You call the generator to get a random number\n",
    "- The generator updates its internal state\n",
    "\n",
    "Stateful objects wont work with `jax` because it violates the purity of the function."
   ]
  },
  {
   "cell_type": "code",
   "execution_count": 40,
   "metadata": {},
   "outputs": [
    {
     "data": {
      "text/plain": [
       "Array([0, 0], dtype=uint32)"
      ]
     },
     "execution_count": 40,
     "metadata": {},
     "output_type": "execute_result"
    }
   ],
   "source": [
    "# The state object is:\n",
    "import jax.random as random\n",
    "\n",
    "key = random.PRNGKey(0)\n",
    "# It is a tuple of two 32-bit integers\n",
    "key"
   ]
  },
  {
   "cell_type": "code",
   "execution_count": 41,
   "metadata": {},
   "outputs": [
    {
     "data": {
      "text/plain": [
       "Array([[ 0.18784384, -1.2833426 ,  0.6494181 ],\n",
       "       [ 1.2490594 ,  0.24447003, -0.11744965]], dtype=float32)"
      ]
     },
     "execution_count": 41,
     "metadata": {},
     "output_type": "execute_result"
    }
   ],
   "source": [
    "random.normal(key, shape=(2, 3))"
   ]
  },
  {
   "cell_type": "code",
   "execution_count": 42,
   "metadata": {},
   "outputs": [
    {
     "data": {
      "text/plain": [
       "Array([[ 1.8160863 , -0.75488514],\n",
       "       [ 0.33988908, -0.53483534]], dtype=float32)"
      ]
     },
     "execution_count": 42,
     "metadata": {},
     "output_type": "execute_result"
    }
   ],
   "source": [
    "# When sampling from a distribution, we explicitly pass the key. \n",
    "# Here is a sample from standard normal\n",
    "random.normal(key, shape=(2, 2))"
   ]
  },
  {
   "cell_type": "code",
   "execution_count": 43,
   "metadata": {},
   "outputs": [
    {
     "data": {
      "text/plain": [
       "Array([0, 0], dtype=uint32)"
      ]
     },
     "execution_count": 43,
     "metadata": {},
     "output_type": "execute_result"
    }
   ],
   "source": [
    "key # key is unchanged"
   ]
  },
  {
   "cell_type": "code",
   "execution_count": 44,
   "metadata": {},
   "outputs": [],
   "source": [
    "# to get a different sample you need to `split` the key\n",
    "key, subkey = random.split(key)\n"
   ]
  },
  {
   "cell_type": "code",
   "execution_count": 45,
   "metadata": {},
   "outputs": [
    {
     "data": {
      "text/plain": [
       "Array([4146024105,  967050713], dtype=uint32)"
      ]
     },
     "execution_count": 45,
     "metadata": {},
     "output_type": "execute_result"
    }
   ],
   "source": [
    "key"
   ]
  },
  {
   "cell_type": "code",
   "execution_count": 46,
   "metadata": {},
   "outputs": [
    {
     "data": {
      "text/plain": [
       "Array([2718843009, 1272950319], dtype=uint32)"
      ]
     },
     "execution_count": 46,
     "metadata": {},
     "output_type": "execute_result"
    }
   ],
   "source": [
    "subkey"
   ]
  },
  {
   "cell_type": "code",
   "execution_count": 47,
   "metadata": {},
   "outputs": [
    {
     "data": {
      "text/plain": [
       "Array([[ 1.1378784 , -0.14331433],\n",
       "       [-0.59153634,  0.79466224]], dtype=float32)"
      ]
     },
     "execution_count": 47,
     "metadata": {},
     "output_type": "execute_result"
    }
   ],
   "source": [
    "random.normal(subkey, shape=(2, 2))"
   ]
  },
  {
   "cell_type": "markdown",
   "metadata": {},
   "source": [
    "You must thread the key through your code. You get used to it when doing it a few times.\n",
    "\n",
    "Generating samples from a random walk using functional programming.\n",
    "The random walk starts at $x_0$:\n",
    "$$\n",
    "x_{t+1} = x_t + \\sigma z_t,\n",
    "$$\n",
    "where $\\sigma > 0$ and\n",
    "$$\n",
    "z_t \\sim \\mathcal{N}(0,1).\n",
    "$$"
   ]
  },
  {
   "cell_type": "code",
   "execution_count": 48,
   "metadata": {},
   "outputs": [],
   "source": [
    "def rw_step(x, sigma, key):\n",
    "    \"\"\"a single step of random walk\"\"\"\n",
    "    key, subkey = random.split(key)\n",
    "    return x + sigma * random.normal(subkey, shape=x.shape), key"
   ]
  },
  {
   "cell_type": "code",
   "execution_count": 77,
   "metadata": {},
   "outputs": [],
   "source": [
    "# Now we can put it in a loop to take multiple steps and jit it\n",
    "@ft.partial(jax.jit, static_argnums=(3,))\n",
    "def sample_rw(x0, sigma, key, n_steps):\n",
    "    \"\"\"sample a random walk\"\"\"\n",
    "    keys = random.split(key, n_steps)\n",
    "    def step_random_walk(x_prev, key_prev):\n",
    "        \"\"\"Single step of random walk\"\"\"\n",
    "        x_next = x_prev + sigma * random.normal(key_prev, shape=x_prev.shape)\n",
    "        return x_next, x_prev\n",
    "    carry, stack = lax.scan(step_random_walk, x0, keys, n_steps)\n",
    "    return stack\n",
    "\n"
   ]
  },
  {
   "cell_type": "code",
   "execution_count": 81,
   "metadata": {},
   "outputs": [],
   "source": [
    "walk = sample_rw(jnp.zeros(2), 1.0, key, 1_000_000)"
   ]
  },
  {
   "cell_type": "code",
   "execution_count": 82,
   "metadata": {},
   "outputs": [
    {
     "data": {
      "text/plain": [
       "(100000000, 2)"
      ]
     },
     "execution_count": 82,
     "metadata": {},
     "output_type": "execute_result"
    }
   ],
   "source": [
    "walk.shape"
   ]
  },
  {
   "cell_type": "code",
   "execution_count": 83,
   "metadata": {},
   "outputs": [
    {
     "data": {
      "image/png": "[encoded data removed]",
      "text/plain": [
       "<Figure size 640x480 with 1 Axes>"
      ]
     },
     "metadata": {},
     "output_type": "display_data"
    }
   ],
   "source": [
    "fig, ax = plt.subplots()\n",
    "ax.plot(walk[:, 0], walk[:, 1], lw=0.5)\n",
    "ax.set(xlabel=\"x\", ylabel=\"y\", title=\"Random Walk\")\n",
    "sns.despine(trim=True)"
   ]
  },
  {
   "cell_type": "code",
   "execution_count": null,
   "metadata": {},
   "outputs": [],
   "source": []
  }
 ],
 "metadata": {
  "kernelspec": {
   "display_name": "me697",
   "language": "python",
   "name": "python3"
  },
  "language_info": {
   "codemirror_mode": {
    "name": "ipython",
    "version": 3
   },
   "file_extension": ".py",
   "mimetype": "text/x-python",
   "name": "python",
   "nbconvert_exporter": "python",
   "pygments_lexer": "ipython3",
   "version": "3.10.13"
  }
 },
 "nbformat": 4,
 "nbformat_minor": 2
}
