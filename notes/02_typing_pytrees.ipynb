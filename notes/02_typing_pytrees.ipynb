{
 "cells": [
  {
   "cell_type": "markdown",
   "metadata": {},
   "source": [
    "# Typing systems\n",
    "\n",
    "Python is a dynamically typed language.\n",
    "This means that the types of the objects used in a Python program is found at run-time.\n",
    "While this speeds up software development iterations, which makes programming error prone.\n",
    "\n",
    "To address this issue, Python has a number of optional static typing systems.\n",
    "These systems allow the programmer to specify the types of variables and function arguments.\n",
    "The Python interpreter can then check that the program is consistent with the types specified by the programmer.\n",
    "This allows the interpreter to catch a number of programming errors at compile time.\n",
    "Type hints in Python look like this:\n",
    "```python\n",
    "def add(x: int, y: int) -> int:\n",
    "    return x + y\n",
    "```\n",
    "\n",
    "Functions in `jax` are explained in the documentation using Haskell-like type signatures.\n",
    "These type signatures look like this:\n",
    "```haskell\n",
    "add :: a -> b -> c\n",
    "```\n",
    "\n",
    "Understanding about types and being familiar with Haskell-like type signatures will make it easier to understand the documentation for `jax`.\n",
    "\n",
    "## Haskell's Type System\n",
    "\n",
    "Haskell has a strong static type system. This means that all functions are pure and all types are known at compile time.\n",
    "`jax` authors use Hakell type notation in their documentation.\n",
    "\n",
    "### Primitive Types\n",
    "The primitive types in Haskell are:\n",
    "- `Int`\n",
    "- `Bool`\n",
    "- `Char`\n",
    "- `Double`\n",
    "- `Float`\n",
    "\n",
    "### Composite Types\n",
    "\n",
    "Lists are a _generic_ or _parametric_ type in Haskell.\n",
    "There type is written as `[T]`, where `T` is the type of the elements in the list.\n",
    "List of lists are written as `[[T]]`, and list of lists of lists are written as `[[[T]]]`, and so on.\n",
    "\n",
    "### Function Types\n",
    "The type of functions is written as `T -> U`, where `T` and `U` are type variables which can be replaced by any type.\n",
    "\n",
    "For example, a function that takes an `Int` and returns a `Bool` has type `Int -> Bool`.\n",
    "```haskell\n",
    "f :: Int -> Bool\n",
    "```\n",
    "\n",
    "A function that takes a list of floats and returns a float can be typed as\n",
    "```haskell\n",
    "g :: [Float] -> Float\n",
    "```\n",
    "\n",
    "A function that takes a list of type `T` and return a result of the same type `T` can be typed as\n",
    "```haskell\n",
    "h :: [T] -> T\n",
    "```\n",
    "\n",
    "This is called a _polymorphic_ function. It is a function that can be applied to arguments of any type.\n",
    "\n",
    "### Curried Function\n",
    "\n",
    "\n",
    "## Types of higher order functions\n",
    "Let us write our some type signatures for some higher order functions.\n",
    "\n",
    "```haskell\n",
    "map :: (a -> b) -> [a] -> [b]\n",
    "```\n",
    "\n",
    "```haskell\n",
    "filter :: (a -> Bool) -> [a] -> [a]\n",
    "```\n",
    "\n",
    "```haskell\n",
    "compose:: (b -> c) -> (a -> b) -> a -> c\n",
    "```\n",
    "\n",
    "for `jax.vmap` we have\n",
    "```haskell\n",
    "vmap::(a -> b) -> ([a] -> [b])\n",
    "```\n",
    "\n",
    "for `jax.fori_loop` we have the following Python analog\n",
    "```python\n",
    "def fori_loop(lower, upper, body_fun, init_val):\n",
    "  val = init_val\n",
    "  for i in range(lower, upper):\n",
    "    val = body_fun(i, val)\n",
    "  return val\n",
    "```\n",
    "\n",
    "We can type this function as follows,\n",
    "```haskell\n",
    "fori_loop::Int -> Int -> (Int -> a -> a) -> a -> a\n",
    "```\n",
    "\n",
    "Signature of `jax.grad`\n",
    "\n",
    "```haskell\n",
    "grad:: ([a] -> a) -> ([a] -> [a])\n",
    "```\n",
    "\n",
    "Signature of `jax.jacobian`\n",
    "\n",
    "```haskell\n",
    "jacobian:: ([a] -> [a]) -> ([a] -> [[a]])\n",
    "```\n",
    "\n",
    "Signature of `jax.hessian`\n",
    "\n",
    "```haskell\n",
    "hessian:: ([a] -> a) -> ([a] -> [[a]])\n",
    "```\n",
    "\n",
    "Signature of `jax.jvp`\n",
    "```haskell\n",
    "jvp:: ([a] -> a) -> [a] -> [a] -> [a]\n",
    "```\n",
    "\n",
    "# Pytrees to represent model parameters\n",
    "\n",
    "Definition of a PyTree\n",
    "> In Jax, we use the term pytree to refer to a tree-like structure built out of container-like Python objects. Classes are considered container-like if they are in the pytree registry, which include built-in container types like list, tuples, and dicts. That is: any object whose type is not in the pytree container registry is considered a leaf pytreel any object whose type is in the pytree container registry, and which contains pytrees, it considered a pytree.\n",
    "\n",
    "Let's see some examples below"
   ]
  },
  {
   "cell_type": "code",
   "execution_count": 1,
   "metadata": {},
   "outputs": [
    {
     "data": {
      "text/plain": [
       "Array([1, 2, 3], dtype=int32)"
      ]
     },
     "execution_count": 1,
     "metadata": {},
     "output_type": "execute_result"
    }
   ],
   "source": [
    "import jax\n",
    "import jax.numpy as jnp\n",
    "import jax.tree_util as tree_util\n",
    "\n",
    "x = jnp.array([1, 2, 3])\n",
    "x"
   ]
  },
  {
   "cell_type": "code",
   "execution_count": 2,
   "metadata": {},
   "outputs": [
    {
     "data": {
      "text/plain": [
       "PyTreeDef(*)"
      ]
     },
     "execution_count": 2,
     "metadata": {},
     "output_type": "execute_result"
    }
   ],
   "source": [
    "tree_util.tree_structure(x)"
   ]
  },
  {
   "cell_type": "code",
   "execution_count": 3,
   "metadata": {},
   "outputs": [
    {
     "data": {
      "text/plain": [
       "PyTreeDef((*, *, *))"
      ]
     },
     "execution_count": 3,
     "metadata": {},
     "output_type": "execute_result"
    }
   ],
   "source": [
    "tree = (1, x, 'hello')\n",
    "tree_util.tree_structure(tree)"
   ]
  },
  {
   "cell_type": "code",
   "execution_count": 4,
   "metadata": {},
   "outputs": [
    {
     "data": {
      "text/plain": [
       "PyTreeDef([*, *, *])"
      ]
     },
     "execution_count": 4,
     "metadata": {},
     "output_type": "execute_result"
    }
   ],
   "source": [
    "tree = [1, x, 'hello']\n",
    "tree_util.tree_structure(tree)"
   ]
  },
  {
   "cell_type": "code",
   "execution_count": 5,
   "metadata": {},
   "outputs": [
    {
     "data": {
      "text/plain": [
       "PyTreeDef({'a': *, 'b': *, 'c': *})"
      ]
     },
     "execution_count": 5,
     "metadata": {},
     "output_type": "execute_result"
    }
   ],
   "source": [
    "tree = {'a': 1, 'b': x, 'c': 'hello'}\n",
    "tree_util.tree_structure(tree)"
   ]
  },
  {
   "cell_type": "code",
   "execution_count": 6,
   "metadata": {},
   "outputs": [],
   "source": [
    "tree = {'tree1': {'a': 1, 'b': x, 'c': 'hello'},\n",
    "        'tree2': {'a': 1, 'b': (x, x, x), 'c': 'hello'}}"
   ]
  },
  {
   "cell_type": "code",
   "execution_count": 7,
   "metadata": {},
   "outputs": [
    {
     "data": {
      "text/plain": [
       "{'tree1': {'a': 1, 'b': Array([1, 2, 3], dtype=int32), 'c': 'hello'},\n",
       " 'tree2': {'a': 1,\n",
       "  'b': (Array([1, 2, 3], dtype=int32),\n",
       "   Array([1, 2, 3], dtype=int32),\n",
       "   Array([1, 2, 3], dtype=int32)),\n",
       "  'c': 'hello'}}"
      ]
     },
     "execution_count": 7,
     "metadata": {},
     "output_type": "execute_result"
    }
   ],
   "source": [
    "tree"
   ]
  },
  {
   "cell_type": "code",
   "execution_count": 8,
   "metadata": {},
   "outputs": [
    {
     "data": {
      "text/plain": [
       "PyTreeDef({'tree1': {'a': *, 'b': *, 'c': *}, 'tree2': {'a': *, 'b': (*, *, *), 'c': *}})"
      ]
     },
     "execution_count": 8,
     "metadata": {},
     "output_type": "execute_result"
    }
   ],
   "source": [
    "tree_util.tree_structure(tree)"
   ]
  },
  {
   "cell_type": "markdown",
   "metadata": {},
   "source": [
    "The leaves of the pytree are the primitives, the arrays and the tuples of primitives and arrays.\n",
    "They are shown by `*` above.\n",
    "You can get the leaves of a pytree as a flattened list with `jax.tree_leaves`:"
   ]
  },
  {
   "cell_type": "code",
   "execution_count": 9,
   "metadata": {},
   "outputs": [
    {
     "data": {
      "text/plain": [
       "[1,\n",
       " Array([1, 2, 3], dtype=int32),\n",
       " 'hello',\n",
       " 1,\n",
       " Array([1, 2, 3], dtype=int32),\n",
       " Array([1, 2, 3], dtype=int32),\n",
       " Array([1, 2, 3], dtype=int32),\n",
       " 'hello']"
      ]
     },
     "execution_count": 9,
     "metadata": {},
     "output_type": "execute_result"
    }
   ],
   "source": [
    "tree_util.tree_leaves(tree)"
   ]
  },
  {
   "cell_type": "markdown",
   "metadata": {},
   "source": [
    "You can also flatten the tree with `jax.tree_flatten`.\n",
    "It returns a tuple of the leaves and a function that can reconstruct the tree from the leaves."
   ]
  },
  {
   "cell_type": "code",
   "execution_count": 10,
   "metadata": {},
   "outputs": [
    {
     "data": {
      "text/plain": [
       "[1,\n",
       " Array([1, 2, 3], dtype=int32),\n",
       " 'hello',\n",
       " 1,\n",
       " Array([1, 2, 3], dtype=int32),\n",
       " Array([1, 2, 3], dtype=int32),\n",
       " Array([1, 2, 3], dtype=int32),\n",
       " 'hello']"
      ]
     },
     "execution_count": 10,
     "metadata": {},
     "output_type": "execute_result"
    }
   ],
   "source": [
    "flat_values, tree_type = tree_util.tree_flatten(tree)\n",
    "flat_values"
   ]
  },
  {
   "cell_type": "code",
   "execution_count": 11,
   "metadata": {},
   "outputs": [
    {
     "data": {
      "text/plain": [
       "{'tree1': {'a': 1, 'b': Array([1, 2, 3], dtype=int32), 'c': 'hello'},\n",
       " 'tree2': {'a': 1,\n",
       "  'b': (Array([1, 2, 3], dtype=int32),\n",
       "   Array([1, 2, 3], dtype=int32),\n",
       "   Array([1, 2, 3], dtype=int32)),\n",
       "  'c': 'hello'}}"
      ]
     },
     "execution_count": 11,
     "metadata": {},
     "output_type": "execute_result"
    }
   ],
   "source": [
    "tree_util.tree_unflatten(tree_type, flat_values)"
   ]
  },
  {
   "cell_type": "markdown",
   "metadata": {},
   "source": [
    "## Example: Neural network parameters\n",
    "\n",
    "The most useful type of pytree for us is the one that contains `jax` arrays.\n",
    "This is the structure that we will use to represent the parameters of our neural networks.\n",
    "Let's make a simple neural network by hand, using a dictionary to represent the parameters of the network."
   ]
  },
  {
   "cell_type": "code",
   "execution_count": 12,
   "metadata": {},
   "outputs": [],
   "source": [
    "from jax import vmap\n",
    "from functools import partial\n",
    "\n",
    "@partial(vmap, in_axes=(0, None))\n",
    "def simple_nn(x, params):\n",
    "    W1 = params[\"layer1\"][\"W\"]\n",
    "    b1 = params[\"layer1\"][\"b\"]\n",
    "    W2 = params[\"layer2\"][\"W\"]\n",
    "    b2 = params[\"layer2\"][\"b\"]\n",
    "    return W2 @ jnp.tanh(W1 @ x + b1) + b2"
   ]
  },
  {
   "cell_type": "code",
   "execution_count": 13,
   "metadata": {},
   "outputs": [
    {
     "data": {
      "text/plain": [
       "{'layer1': {'W': Array([[-0.11168969,  0.58439565,  1.437887  ],\n",
       "         [ 0.533231  , -1.0117726 , -2.316002  ]], dtype=float32),\n",
       "  'b': Array([-1.5917008, -0.9385306], dtype=float32)},\n",
       " 'layer2': {'W': Array([[ 0.43686673, -0.5115205 ]], dtype=float32),\n",
       "  'b': Array([0.6714109], dtype=float32)}}"
      ]
     },
     "execution_count": 13,
     "metadata": {},
     "output_type": "execute_result"
    }
   ],
   "source": [
    "import jax.random as random\n",
    "\n",
    "key = random.PRNGKey(0)\n",
    "keys = random.split(key, 4)\n",
    "\n",
    "params = {\n",
    "    \"layer1\": {\n",
    "        \"W\": random.normal(keys[0], (2, 3)),\n",
    "        \"b\": random.normal(keys[1], (2,)),\n",
    "    },\n",
    "    \"layer2\": {\n",
    "        \"W\": random.normal(keys[2], (1, 2)),\n",
    "        \"b\": random.normal(keys[3], (1,)),\n",
    "    },\n",
    "}\n",
    "params"
   ]
  },
  {
   "cell_type": "code",
   "execution_count": 14,
   "metadata": {},
   "outputs": [
    {
     "data": {
      "text/plain": [
       "Array([[ 0.6350196 ],\n",
       "       [ 0.3767303 ],\n",
       "       [ 0.7132992 ],\n",
       "       [ 0.88301647],\n",
       "       [-0.27681673],\n",
       "       [-0.17706287],\n",
       "       [-0.22115844],\n",
       "       [ 0.31149212],\n",
       "       [ 1.293994  ],\n",
       "       [ 0.97846043]], dtype=float32)"
      ]
     },
     "execution_count": 14,
     "metadata": {},
     "output_type": "execute_result"
    }
   ],
   "source": [
    "key, subkey = random.split(keys[0])\n",
    "xs = random.normal(subkey, (10, 3))\n",
    "\n",
    "simple_nn(xs, params)"
   ]
  },
  {
   "cell_type": "code",
   "execution_count": 15,
   "metadata": {},
   "outputs": [],
   "source": [
    "key, subkey = random.split(key)\n",
    "ys = random.normal(subkey, (10,))\n",
    "\n",
    "def loss(params, xs, ys):\n",
    "    pred = simple_nn(xs, params)\n",
    "    return jnp.mean((pred - ys) ** 2)"
   ]
  },
  {
   "cell_type": "code",
   "execution_count": 16,
   "metadata": {},
   "outputs": [
    {
     "data": {
      "text/plain": [
       "Array(1.9756663, dtype=float32)"
      ]
     },
     "execution_count": 16,
     "metadata": {},
     "output_type": "execute_result"
    }
   ],
   "source": [
    "loss(params, xs, ys)"
   ]
  },
  {
   "cell_type": "code",
   "execution_count": 17,
   "metadata": {},
   "outputs": [],
   "source": [
    "from jax import grad, jit\n",
    "\n",
    "grad_loss = jit(grad(loss))"
   ]
  },
  {
   "cell_type": "code",
   "execution_count": 18,
   "metadata": {},
   "outputs": [
    {
     "data": {
      "text/plain": [
       "{'layer1': {'W': Array([[-0.12261432, -0.06746285,  0.25431654],\n",
       "         [ 0.05320146, -0.02407618,  0.04390811]], dtype=float32),\n",
       "  'b': Array([ 0.2712015, -0.1596887], dtype=float32)},\n",
       " 'layer2': {'W': Array([[-0.6151127, -1.058177 ]], dtype=float32),\n",
       "  'b': Array([1.1982161], dtype=float32)}}"
      ]
     },
     "execution_count": 18,
     "metadata": {},
     "output_type": "execute_result"
    }
   ],
   "source": [
    "g = grad_loss(params, xs, ys)\n",
    "g"
   ]
  },
  {
   "cell_type": "code",
   "execution_count": 19,
   "metadata": {},
   "outputs": [
    {
     "data": {
      "text/plain": [
       "PyTreeDef({'layer1': {'W': *, 'b': *}, 'layer2': {'W': *, 'b': *}})"
      ]
     },
     "execution_count": 19,
     "metadata": {},
     "output_type": "execute_result"
    }
   ],
   "source": [
    "tree_util.tree_structure(g)"
   ]
  },
  {
   "cell_type": "markdown",
   "metadata": {},
   "source": [
    "The parameters are a pytree, so the gradient is a pytree too.\n",
    "The structure of the pytree is the same as the structure of the parameters.\n",
    "The leaves of the `g` pytree are the gradients of the loss function w.r.t the parameters.\n",
    "This generalizes to any pytree, not just dictionaries.\n",
    "\n",
    "We can do a gradient descent on them.\n",
    "We have to subtract a small multiple of the gradient from the parameters.\n"
   ]
  },
  {
   "cell_type": "code",
   "execution_count": 20,
   "metadata": {},
   "outputs": [
    {
     "data": {
      "text/plain": [
       "{'layer1': {'W': Array([[-0.09942825,  0.59114194,  1.4124553 ],\n",
       "         [ 0.5279109 , -1.009365  , -2.3203926 ]], dtype=float32),\n",
       "  'b': Array([-1.6188209 , -0.92256176], dtype=float32)},\n",
       " 'layer2': {'W': Array([[ 0.498378 , -0.4057028]], dtype=float32),\n",
       "  'b': Array([0.5515893], dtype=float32)}}"
      ]
     },
     "execution_count": 20,
     "metadata": {},
     "output_type": "execute_result"
    }
   ],
   "source": [
    "new_params = tree_util.tree_map(\n",
    "    lambda theta, delta_theta: theta - 0.1 * delta_theta,\n",
    "    params,\n",
    "    g\n",
    ")\n",
    "\n",
    "new_params"
   ]
  },
  {
   "cell_type": "markdown",
   "metadata": {},
   "source": [
    "The function `tree_map` apploes a function to every leaf of a pytree.\n",
    "\n",
    "Now, if we wanted to add a L2 regularization term to the loss function. This means that we have to add the square of every parameter to the loss function."
   ]
  },
  {
   "cell_type": "code",
   "execution_count": 21,
   "metadata": {},
   "outputs": [
    {
     "data": {
      "text/plain": [
       "Array(13.411044, dtype=float32)"
      ]
     },
     "execution_count": 21,
     "metadata": {},
     "output_type": "execute_result"
    }
   ],
   "source": [
    "params2 = tree_util.tree_map(\n",
    "    lambda x: x**2,\n",
    "    params\n",
    ")\n",
    "\n",
    "# and sum the squares using `tree_reduce`:\n",
    "tree_util.tree_reduce(\n",
    "    lambda x, y: jnp.sum(x) + jnp.sum(y),\n",
    "    params2,\n",
    "    0.0\n",
    ")"
   ]
  },
  {
   "cell_type": "code",
   "execution_count": 22,
   "metadata": {},
   "outputs": [],
   "source": [
    "# Rewrite the loss function to include the regularization\n",
    "\n",
    "def loss(params, xs, ys):\n",
    "    pred = simple_nn(xs, params)\n",
    "    squared_error = jnp.mean((pred - ys) ** 2)\n",
    "    l2_norm = tree_util.tree_reduce(\n",
    "        lambda x, y: jnp.sum(x) + jnp.sum(y),\n",
    "        tree_util.tree_map(lambda x: x**2, params),\n",
    "        0.0\n",
    "    )\n",
    "    return squared_error + 0.1 * l2_norm"
   ]
  },
  {
   "cell_type": "markdown",
   "metadata": {},
   "source": [
    "Introducing another useful funtion, `value_and_grad`.\n",
    "It returns the value of a functoin and its gradient."
   ]
  },
  {
   "cell_type": "code",
   "execution_count": 23,
   "metadata": {},
   "outputs": [],
   "source": [
    "from jax import value_and_grad\n",
    "\n",
    "loss_and_grad = jit(value_and_grad(loss))\n",
    "\n",
    "v, g = loss_and_grad(params, xs, ys)"
   ]
  },
  {
   "cell_type": "code",
   "execution_count": 24,
   "metadata": {},
   "outputs": [
    {
     "data": {
      "text/plain": [
       "Array(3.3167708, dtype=float32)"
      ]
     },
     "execution_count": 24,
     "metadata": {},
     "output_type": "execute_result"
    }
   ],
   "source": [
    "v"
   ]
  },
  {
   "cell_type": "code",
   "execution_count": 25,
   "metadata": {},
   "outputs": [
    {
     "data": {
      "text/plain": [
       "{'layer1': {'W': Array([[-0.14495225,  0.04941629,  0.54189396],\n",
       "         [ 0.15984766, -0.22643071, -0.41929227]], dtype=float32),\n",
       "  'b': Array([-0.04713867, -0.34739482], dtype=float32)},\n",
       " 'layer2': {'W': Array([[-0.52773935, -1.1604811 ]], dtype=float32),\n",
       "  'b': Array([1.3324983], dtype=float32)}}"
      ]
     },
     "execution_count": 25,
     "metadata": {},
     "output_type": "execute_result"
    }
   ],
   "source": [
    "g"
   ]
  },
  {
   "cell_type": "markdown",
   "metadata": {},
   "source": [
    "## Named tuples\n",
    "\n",
    "Named tuples are useful to represent data.\n",
    "Namedtuples are also pytrees."
   ]
  },
  {
   "cell_type": "code",
   "execution_count": 26,
   "metadata": {},
   "outputs": [
    {
     "data": {
      "text/plain": [
       "NNParameters(layer1=LayerParameters(W=Array([[-0.11168969,  0.58439565,  1.437887  ],\n",
       "       [ 0.533231  , -1.0117726 , -2.316002  ]], dtype=float32), b=Array([-1.5917008, -0.9385306], dtype=float32)), layer2=LayerParameters(W=Array([[ 0.43686673, -0.5115205 ]], dtype=float32), b=Array([0.6714109], dtype=float32)))"
      ]
     },
     "execution_count": 26,
     "metadata": {},
     "output_type": "execute_result"
    }
   ],
   "source": [
    "from collections import namedtuple\n",
    "\n",
    "NNParameters = namedtuple(\"NNParameters\", [\"layer1\", \"layer2\"])\n",
    "LayerParameters = namedtuple(\"LayerParameters\", [\"W\", \"b\"])\n",
    "\n",
    "params = NNParameters(\n",
    "    LayerParameters(\n",
    "        W=random.normal(keys[0], (2, 3)),\n",
    "        b=random.normal(keys[1], (2,)),\n",
    "    ),\n",
    "    LayerParameters(\n",
    "        W=random.normal(keys[2], (1, 2)),\n",
    "        b=random.normal(keys[3], (1,)),\n",
    "    ),\n",
    ")\n",
    "params"
   ]
  },
  {
   "cell_type": "code",
   "execution_count": 27,
   "metadata": {},
   "outputs": [
    {
     "data": {
      "text/plain": [
       "LayerParameters(W=Array([[-0.11168969,  0.58439565,  1.437887  ],\n",
       "       [ 0.533231  , -1.0117726 , -2.316002  ]], dtype=float32), b=Array([-1.5917008, -0.9385306], dtype=float32))"
      ]
     },
     "execution_count": 27,
     "metadata": {},
     "output_type": "execute_result"
    }
   ],
   "source": [
    "params.layer1"
   ]
  },
  {
   "cell_type": "code",
   "execution_count": 28,
   "metadata": {},
   "outputs": [
    {
     "data": {
      "text/plain": [
       "Array([[-0.11168969,  0.58439565,  1.437887  ],\n",
       "       [ 0.533231  , -1.0117726 , -2.316002  ]], dtype=float32)"
      ]
     },
     "execution_count": 28,
     "metadata": {},
     "output_type": "execute_result"
    }
   ],
   "source": [
    "params.layer1.W"
   ]
  },
  {
   "cell_type": "code",
   "execution_count": 29,
   "metadata": {},
   "outputs": [
    {
     "data": {
      "text/plain": [
       "PyTreeDef(CustomNode(namedtuple[NNParameters], [CustomNode(namedtuple[LayerParameters], [*, *]), CustomNode(namedtuple[LayerParameters], [*, *])]))"
      ]
     },
     "execution_count": 29,
     "metadata": {},
     "output_type": "execute_result"
    }
   ],
   "source": [
    "tree_util.tree_structure(params)"
   ]
  },
  {
   "cell_type": "code",
   "execution_count": 30,
   "metadata": {},
   "outputs": [
    {
     "data": {
      "text/plain": [
       "NNParameters(layer1=LayerParameters(W=Array([[0.01247459, 0.34151828, 2.067519  ],\n",
       "       [0.28433532, 1.0236839 , 5.363865  ]], dtype=float32), b=Array([2.5335114, 0.8808397], dtype=float32)), layer2=LayerParameters(W=Array([[0.19085254, 0.2616532 ]], dtype=float32), b=Array([0.4507926], dtype=float32)))"
      ]
     },
     "execution_count": 30,
     "metadata": {},
     "output_type": "execute_result"
    }
   ],
   "source": [
    "tree_util.tree_map(lambda x: x**2, params)"
   ]
  },
  {
   "cell_type": "code",
   "execution_count": 31,
   "metadata": {},
   "outputs": [
    {
     "data": {
      "text/plain": [
       "(Array(3.3167708, dtype=float32),\n",
       " NNParameters(layer1=LayerParameters(W=Array([[-0.14495225,  0.04941629,  0.54189396],\n",
       "        [ 0.15984766, -0.22643071, -0.41929227]], dtype=float32), b=Array([-0.04713867, -0.34739482], dtype=float32)), layer2=LayerParameters(W=Array([[-0.52773935, -1.1604811 ]], dtype=float32), b=Array([1.3324983], dtype=float32))))"
      ]
     },
     "execution_count": 31,
     "metadata": {},
     "output_type": "execute_result"
    }
   ],
   "source": [
    "@partial(vmap, in_axes=(0, None))\n",
    "def simple_nn(x, params):\n",
    "    W1 = params.layer1.W\n",
    "    b1 = params.layer1.b\n",
    "    W2 = params.layer2.W\n",
    "    b2 = params.layer2.b\n",
    "    return W2 @ jnp.tanh(W1 @ x + b1) + b2\n",
    "\n",
    "@jit\n",
    "@value_and_grad\n",
    "def loss(params, xs, ys):\n",
    "    pred = simple_nn(xs, params)\n",
    "    squared_error = jnp.mean((pred - ys) ** 2)\n",
    "    l2_norm = tree_util.tree_reduce(\n",
    "        lambda x, y: jnp.sum(x) + jnp.sum(y),\n",
    "        tree_util.tree_map(lambda x: x**2, params),\n",
    "        0.0\n",
    "    )\n",
    "    return squared_error + 0.1 * l2_norm\n",
    "\n",
    "loss(params, xs, ys)"
   ]
  },
  {
   "cell_type": "markdown",
   "metadata": {},
   "source": [
    "## Equinox - How to actually do this in practice?\n",
    "\n",
    "We don't want to write our neural networks by hand.\n",
    "\n",
    "- Flax\n",
    "- Haiku\n",
    "- Equinox\n",
    "\n",
    "Equinox relies only on `Pytrees`.\n",
    "`Equinox` will be used in this course."
   ]
  },
  {
   "cell_type": "code",
   "execution_count": 32,
   "metadata": {},
   "outputs": [],
   "source": [
    "import equinox as eqx\n",
    "\n",
    "class SimpleNN(eqx.Module):\n",
    "    layers: list\n",
    "\n",
    "    def __init__(self, n_inputs, n_hidden, n_outputs, key):\n",
    "        key1, key2 = random.split(key)\n",
    "        self.layers = [\n",
    "            eqx.nn.Linear(n_inputs, n_hidden, key=key1),\n",
    "            eqx.nn.Linear(n_hidden, n_outputs, key=key2),\n",
    "        ]\n",
    "    # We can neatly vectorize the forward pass\n",
    "    # Here we need to in_axes=(0, None) because the first argument is `self`\n",
    "    @partial(vmap, in_axes=(None, 0))\n",
    "    def __call__(self, x):\n",
    "        for layer in self.layers[:-1]:\n",
    "            x = jnp.tanh(layer(x))\n",
    "        return self.layers[-1](x)\n"
   ]
  },
  {
   "cell_type": "code",
   "execution_count": 33,
   "metadata": {},
   "outputs": [
    {
     "data": {
      "text/plain": [
       "SimpleNN(\n",
       "  layers=[\n",
       "    Linear(\n",
       "      weight=f32[2,3],\n",
       "      bias=f32[2],\n",
       "      in_features=3,\n",
       "      out_features=2,\n",
       "      use_bias=True\n",
       "    ),\n",
       "    Linear(\n",
       "      weight=f32[1,2],\n",
       "      bias=f32[1],\n",
       "      in_features=2,\n",
       "      out_features=1,\n",
       "      use_bias=True\n",
       "    )\n",
       "  ]\n",
       ")"
      ]
     },
     "execution_count": 33,
     "metadata": {},
     "output_type": "execute_result"
    }
   ],
   "source": [
    "key = random.PRNGKey(314)\n",
    "model = SimpleNN(3, 2, 1, key)\n",
    "model"
   ]
  },
  {
   "cell_type": "code",
   "execution_count": 34,
   "metadata": {},
   "outputs": [
    {
     "name": "stdout",
     "output_type": "stream",
     "text": [
      "(10, 3)\n"
     ]
    },
    {
     "data": {
      "text/plain": [
       "Array([[-0.26482067],\n",
       "       [-0.17487162],\n",
       "       [-0.28958413],\n",
       "       [-0.34640497],\n",
       "       [-0.10561763],\n",
       "       [-0.12498382],\n",
       "       [-0.26911202],\n",
       "       [-0.24482018],\n",
       "       [-0.36088067],\n",
       "       [-0.21855468]], dtype=float32)"
      ]
     },
     "execution_count": 34,
     "metadata": {},
     "output_type": "execute_result"
    }
   ],
   "source": [
    "print(xs.shape)\n",
    "model(xs)"
   ]
  },
  {
   "cell_type": "code",
   "execution_count": 35,
   "metadata": {},
   "outputs": [
    {
     "data": {
      "text/plain": [
       "PyTreeDef(CustomNode(SimpleNN[('layers',), (), ()], [[CustomNode(Linear[('weight', 'bias'), ('in_features', 'out_features', 'use_bias'), (3, 2, True)], [*, *]), CustomNode(Linear[('weight', 'bias'), ('in_features', 'out_features', 'use_bias'), (2, 1, True)], [*, *])]]))"
      ]
     },
     "execution_count": 35,
     "metadata": {},
     "output_type": "execute_result"
    }
   ],
   "source": [
    "tree_util.tree_structure(model)"
   ]
  },
  {
   "cell_type": "code",
   "execution_count": 36,
   "metadata": {},
   "outputs": [
    {
     "data": {
      "text/plain": [
       "Array([[-0.48662117,  0.08805605,  0.25260752],\n",
       "       [ 0.55680007, -0.21773158, -0.5048137 ]], dtype=float32)"
      ]
     },
     "execution_count": 36,
     "metadata": {},
     "output_type": "execute_result"
    }
   ],
   "source": [
    "# go to specific parameters like so\n",
    "model.layers[0].weight"
   ]
  },
  {
   "cell_type": "code",
   "execution_count": 37,
   "metadata": {},
   "outputs": [
    {
     "data": {
      "text/plain": [
       "[Array([[-0.48662117,  0.08805605,  0.25260752],\n",
       "        [ 0.55680007, -0.21773158, -0.5048137 ]], dtype=float32),\n",
       " Array([-0.04204372, -0.52129227], dtype=float32),\n",
       " Array([[-0.42024657, -0.18588884]], dtype=float32),\n",
       " Array([-0.30617577], dtype=float32)]"
      ]
     },
     "execution_count": 37,
     "metadata": {},
     "output_type": "execute_result"
    }
   ],
   "source": [
    "# or all together (but without names)\n",
    "tree_util.tree_leaves(model)"
   ]
  },
  {
   "cell_type": "code",
   "execution_count": 38,
   "metadata": {},
   "outputs": [
    {
     "data": {
      "text/plain": [
       "([[Linear(\n",
       "     weight=f32[2,3],\n",
       "     bias=f32[2],\n",
       "     in_features=3,\n",
       "     out_features=2,\n",
       "     use_bias=True\n",
       "   ),\n",
       "   Linear(\n",
       "     weight=f32[1,2],\n",
       "     bias=f32[1],\n",
       "     in_features=2,\n",
       "     out_features=1,\n",
       "     use_bias=True\n",
       "   )]],\n",
       " PyTreeDef(CustomNode(SimpleNN[('layers',), (), ()], [*])))"
      ]
     },
     "execution_count": 38,
     "metadata": {},
     "output_type": "execute_result"
    }
   ],
   "source": [
    "# or you can organize a separate pytree\n",
    "eqx.tree_flatten_one_level(model)"
   ]
  },
  {
   "cell_type": "code",
   "execution_count": 39,
   "metadata": {},
   "outputs": [
    {
     "data": {
      "text/plain": [
       "Array(1.4990535, dtype=float32)"
      ]
     },
     "execution_count": 39,
     "metadata": {},
     "output_type": "execute_result"
    }
   ],
   "source": [
    "# But think of the model and its parameters as a single object\n",
    "# Here is how to compute the L2 norm of the parameters\n",
    "tree_util.tree_reduce(\n",
    "    lambda x, y: jnp.sum(x) + jnp.sum(y),\n",
    "    tree_util.tree_map(lambda x: x**2, model),\n",
    "    0.0\n",
    ")"
   ]
  },
  {
   "cell_type": "code",
   "execution_count": 40,
   "metadata": {},
   "outputs": [],
   "source": [
    "# making our loss function\n",
    "@jit\n",
    "@value_and_grad\n",
    "def loss(model, xs, ys):\n",
    "    pred = model(xs)\n",
    "    squared_error = jnp.mean((pred - ys) ** 2)\n",
    "    l2_norm = tree_util.tree_reduce(\n",
    "        lambda x, y: jnp.sum(x) + jnp.sum(y),\n",
    "        tree_util.tree_map(lambda x: x**2, model),\n",
    "        0.0\n",
    "    )\n",
    "    return squared_error + 0.1 * l2_norm"
   ]
  },
  {
   "cell_type": "code",
   "execution_count": 41,
   "metadata": {},
   "outputs": [
    {
     "data": {
      "text/plain": [
       "Array(1.5138841, dtype=float32)"
      ]
     },
     "execution_count": 41,
     "metadata": {},
     "output_type": "execute_result"
    }
   ],
   "source": [
    "# note that the gradient w.r.t `model` which is identified with its parameters\n",
    "# Here is how it looks like:\n",
    "v, g = loss(model, xs, ys)\n",
    "v"
   ]
  },
  {
   "cell_type": "code",
   "execution_count": 42,
   "metadata": {},
   "outputs": [
    {
     "data": {
      "text/plain": [
       "SimpleNN(\n",
       "  layers=[\n",
       "    Linear(\n",
       "      weight=f32[2,3],\n",
       "      bias=f32[2],\n",
       "      in_features=3,\n",
       "      out_features=2,\n",
       "      use_bias=True\n",
       "    ),\n",
       "    Linear(\n",
       "      weight=f32[1,2],\n",
       "      bias=f32[1],\n",
       "      in_features=2,\n",
       "      out_features=1,\n",
       "      use_bias=True\n",
       "    )\n",
       "  ]\n",
       ")"
      ]
     },
     "execution_count": 42,
     "metadata": {},
     "output_type": "execute_result"
    }
   ],
   "source": [
    "g"
   ]
  },
  {
   "cell_type": "code",
   "execution_count": 43,
   "metadata": {},
   "outputs": [
    {
     "data": {
      "text/plain": [
       "[Array([[-0.1455418 ,  0.03308565,  0.05444702],\n",
       "        [ 0.09960934, -0.03814673, -0.10497998]], dtype=float32),\n",
       " Array([ 0.06236227, -0.08787652], dtype=float32),\n",
       " Array([[-0.15165785,  0.11073178]], dtype=float32),\n",
       " Array([-0.24634382], dtype=float32)]"
      ]
     },
     "execution_count": 43,
     "metadata": {},
     "output_type": "execute_result"
    }
   ],
   "source": [
    "tree_util.tree_leaves(g)"
   ]
  },
  {
   "cell_type": "markdown",
   "metadata": {},
   "source": [
    "## Autograd with `jax`\n",
    "\n",
    "Important features of `jax` that are required for the course is covered here:"
   ]
  },
  {
   "cell_type": "code",
   "execution_count": 44,
   "metadata": {},
   "outputs": [],
   "source": [
    "import jax\n",
    "import jax.numpy as jnp\n",
    "from jax import jit, vmap, grad\n",
    "from functools import partial\n",
    "\n",
    "# vectorized for the centers\n",
    "@partial(vmap, in_axes=(None, 0, None))\n",
    "def rbf_basis(x, c, sigma2):\n",
    "    # jax.debug.print(\"shape of x: {}\".format(x.shape))\n",
    "    # jax.debug.print(\"shape of c: {}\".format(c.shape))\n",
    "    # jax.debug.print(\"shape of (x-c) : {}\".format((x-c).shape))\n",
    "    return jnp.exp(-jnp.sum((x-c)**2, axis=-1) / sigma2)"
   ]
  },
  {
   "cell_type": "code",
   "execution_count": 53,
   "metadata": {},
   "outputs": [],
   "source": [
    "@jit\n",
    "@partial(vmap, in_axes=(0, None, None, None), out_axes=0)\n",
    "def model(x, w, c, sigma2):\n",
    "    # return w @ rbf_basis(x, c, sigma2)\n",
    "    return jnp.dot(rbf_basis(x, c, sigma2), w).reshape(-1)"
   ]
  },
  {
   "cell_type": "code",
   "execution_count": 54,
   "metadata": {},
   "outputs": [
    {
     "name": "stdout",
     "output_type": "stream",
     "text": [
      "(10, 100)\n",
      "(100, 1)\n"
     ]
    }
   ],
   "source": [
    "import jax.random as random\n",
    "\n",
    "sigma2 = 0.01\n",
    "c = jnp.linspace(-1, 1, 10).reshape(-1, 1)\n",
    "key = random.PRNGKey(0)\n",
    "key, subkey = random.split(key)\n",
    "w = random.normal(subkey, (10,))\n",
    "x = jnp.linspace(-1, 1, 100).reshape(-1, 1)\n",
    "\n",
    "y = model(x, w, c, sigma2)\n",
    "print(rbf_basis(x, c, sigma2).shape)\n",
    "print(y.shape)"
   ]
  },
  {
   "cell_type": "code",
   "execution_count": 55,
   "metadata": {},
   "outputs": [
    {
     "data": {
      "image/png": "[encoded data removed]",
      "text/plain": [
       "<Figure size 640x480 with 1 Axes>"
      ]
     },
     "metadata": {},
     "output_type": "display_data"
    }
   ],
   "source": [
    "import matplotlib.pyplot as plt\n",
    "import seaborn as sns\n",
    "fig, ax = plt.subplots()\n",
    "ax.plot(x, y, label='model')\n",
    "ax.set(xlabel='x', ylabel='y', title='RBF model')\n",
    "sns.despine(trim=True);"
   ]
  },
  {
   "cell_type": "code",
   "execution_count": 56,
   "metadata": {},
   "outputs": [
    {
     "data": {
      "image/png": "[encoded data removed]",
      "text/plain": [
       "<Figure size 640x480 with 1 Axes>"
      ]
     },
     "metadata": {},
     "output_type": "display_data"
    }
   ],
   "source": [
    "## Adding data to set up sum of squared error loss\n",
    "key, subkey = random.split(key)\n",
    "x_train = random.uniform(subkey, (50, 1), minval=-1, maxval=1)\n",
    "key, subkey = random.split(key)\n",
    "y_train = x_train**3 + 0.1 * random.normal(subkey, (50, 1))\n",
    "\n",
    "fig, ax = plt.subplots()\n",
    "ax.plot(x, y, label=\"initial model\")\n",
    "ax.plot(x_train, y_train, 'kx', label=\"training data\")\n",
    "ax.set(xlabel='x', ylabel='y', title='RBF model')\n",
    "plt.legend()\n",
    "sns.despine(trim=True);"
   ]
  },
  {
   "cell_type": "code",
   "execution_count": 58,
   "metadata": {},
   "outputs": [],
   "source": [
    "def loss(w, c, sigma2, x, y):\n",
    "    y_pred = model(x, w, c, sigma2)\n",
    "    return jnp.mean((y_pred - y)**2)"
   ]
  },
  {
   "cell_type": "code",
   "execution_count": 64,
   "metadata": {},
   "outputs": [],
   "source": [
    "loss_grad = jit(grad(loss, argnums=0))"
   ]
  },
  {
   "cell_type": "code",
   "execution_count": 65,
   "metadata": {},
   "outputs": [
    {
     "data": {
      "text/plain": [
       "Array([-1.0574479 , -0.38118002,  0.26727194, -0.7237114 , -1.0403341 ,\n",
       "       -1.080807  ,  0.4755785 ,  0.7723094 ,  0.6198999 , -0.87638605],      dtype=float32)"
      ]
     },
     "execution_count": 65,
     "metadata": {},
     "output_type": "execute_result"
    }
   ],
   "source": [
    "loss_grad(w, c, sigma2, x_train, y_train)"
   ]
  },
  {
   "cell_type": "code",
   "execution_count": 66,
   "metadata": {},
   "outputs": [],
   "source": [
    "full_loss_grad = jit(grad(loss, argnums=(0, 1, 2)))"
   ]
  },
  {
   "cell_type": "code",
   "execution_count": 67,
   "metadata": {},
   "outputs": [
    {
     "name": "stdout",
     "output_type": "stream",
     "text": [
      "(10,) (10, 1) ()\n"
     ]
    }
   ],
   "source": [
    "w_grad, c_grad, sigma2_grad = full_loss_grad(w, c, sigma2, x_train, y_train)\n",
    "print(w_grad.shape, c_grad.shape, sigma2_grad.shape)"
   ]
  },
  {
   "cell_type": "code",
   "execution_count": 68,
   "metadata": {},
   "outputs": [],
   "source": [
    "# Naive implementation of a gradient descent\n",
    "@jit\n",
    "def gd_step(w, c, sigma2, x, y, lr=0.1):\n",
    "    w_grad = loss_grad(w, c, sigma2, x, y)\n",
    "    w = w - lr * w_grad\n",
    "    return w, c, sigma2\n",
    "\n",
    "num_iter = 10_000\n",
    "lr = 0.01\n",
    "n_batch = 10\n",
    "\n",
    "w = random.normal(key, (10,))\n",
    "c = random.uniform(key, (10, 1), minval=-1, maxval=1)\n",
    "sigma2 = 0.1\n",
    "\n",
    "for i in range(num_iter):\n",
    "    w, c, sigma2 = gd_step(w, c, sigma2, x_train, y_train, lr=lr)"
   ]
  },
  {
   "cell_type": "code",
   "execution_count": 69,
   "metadata": {},
   "outputs": [
    {
     "data": {
      "image/png": "[encoded data removed]",
      "text/plain": [
       "<Figure size 640x480 with 1 Axes>"
      ]
     },
     "metadata": {},
     "output_type": "display_data"
    }
   ],
   "source": [
    "pred = model(x, w, c, sigma2)\n",
    "\n",
    "fig, ax = plt.subplots()\n",
    "ax.plot(x, pred, label='initial model')\n",
    "ax.plot(x_train, y_train, 'kx', label='training data')\n",
    "ax.set(xlabel='x', ylabel='y', title='RBF model')\n",
    "plt.legend(loc='best', frameon=False)\n",
    "sns.despine(trim=True);"
   ]
  },
  {
   "cell_type": "code",
   "execution_count": null,
   "metadata": {},
   "outputs": [],
   "source": []
  }
 ],
 "metadata": {
  "kernelspec": {
   "display_name": "me697",
   "language": "python",
   "name": "python3"
  },
  "language_info": {
   "codemirror_mode": {
    "name": "ipython",
    "version": 3
   },
   "file_extension": ".py",
   "mimetype": "text/x-python",
   "name": "python",
   "nbconvert_exporter": "python",
   "pygments_lexer": "ipython3",
   "version": "3.10.13"
  }
 },
 "nbformat": 4,
 "nbformat_minor": 2
}
